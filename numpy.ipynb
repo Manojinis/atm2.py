{
 "cells": [
  {
   "cell_type": "code",
   "execution_count": 3,
   "id": "76fbcc7c-b06c-44c3-af64-a496d08f9fd7",
   "metadata": {},
   "outputs": [
    {
     "name": "stdout",
     "output_type": "stream",
     "text": [
      "henno world\n"
     ]
    }
   ],
   "source": [
    "print(\"henno world\")\n"
   ]
  },
  {
   "cell_type": "code",
   "execution_count": 4,
   "id": "bcf1ddcb-1ace-4fbd-9064-175bd4427c5e",
   "metadata": {},
   "outputs": [
    {
     "name": "stdout",
     "output_type": "stream",
     "text": [
      "hello\n"
     ]
    }
   ],
   "source": [
    "import pandas\n",
    "import numpy\n",
    "import seaborn\n",
    "import matplotlib\n",
    "print(\"hello\")"
   ]
  },
  {
   "cell_type": "code",
   "execution_count": 11,
   "id": "41a38839-d884-435d-bd34-04bf9b7e230b",
   "metadata": {},
   "outputs": [
    {
     "name": "stdout",
     "output_type": "stream",
     "text": [
      "[55, 110, 165, 220, 275]\n"
     ]
    }
   ],
   "source": [
    "import numpy as np\n",
    "list=[11, 22, 33, 44, 55]\n",
    "result=[]\n",
    "for i in list:\n",
    "    result.append(i*5)\n",
    "print(result)\n"
   ]
  },
  {
   "cell_type": "code",
   "execution_count": null,
   "id": "dfa6349a-f9bd-4bf4-8425-ddeeec853d01",
   "metadata": {},
   "outputs": [],
   "source": []
  }
 ],
 "metadata": {
  "kernelspec": {
   "display_name": "Python 3 (ipykernel)",
   "language": "python",
   "name": "python3"
  },
  "language_info": {
   "codemirror_mode": {
    "name": "ipython",
    "version": 3
   },
   "file_extension": ".py",
   "mimetype": "text/x-python",
   "name": "python",
   "nbconvert_exporter": "python",
   "pygments_lexer": "ipython3",
   "version": "3.13.3"
  }
 },
 "nbformat": 4,
 "nbformat_minor": 5
}
